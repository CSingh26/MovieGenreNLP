{
 "cells": [
  {
   "cell_type": "code",
   "execution_count": 32,
   "id": "061262af",
   "metadata": {},
   "outputs": [],
   "source": [
    "import json\n",
    "from tensorflow.keras.preprocessing.text import tokenizer_from_json\n",
    "from tensorflow.keras.models import load_model\n",
    "from tensorflow.keras.preprocessing.sequence import pad_sequences\n",
    "import numpy as np\n",
    "import re\n",
    "import joblib"
   ]
  },
  {
   "cell_type": "code",
   "execution_count": 33,
   "id": "774823b0",
   "metadata": {},
   "outputs": [
    {
     "name": "stderr",
     "output_type": "stream",
     "text": [
      "WARNING:absl:At this time, the v2.11+ optimizer `tf.keras.optimizers.Adam` runs slowly on M1/M2 Macs, please use the legacy Keras optimizer instead, located at `tf.keras.optimizers.legacy.Adam`.\n",
      "WARNING:absl:At this time, the v2.11+ optimizer `tf.keras.optimizers.Adam` runs slowly on M1/M2 Macs, please use the legacy Keras optimizer instead, located at `tf.keras.optimizers.legacy.Adam`.\n"
     ]
    },
    {
     "name": "stdout",
     "output_type": "stream",
     "text": [
      "1/1 [==============================] - 0s 210ms/step\n",
      "Description: Swathi dreams of owning a restaurant. But when murder derails her plan, she and her lover take an outrageous step - to replace him with her husband.\n",
      "Predicted genres:\n",
      "['Comedy', 'Crime', 'Drama']\n",
      "\n",
      "\n",
      "Description: Drea and Eleanor agree to go after one another's bullies.\n",
      "Predicted genres:\n",
      "['Comedy']\n",
      "\n",
      "\n"
     ]
    }
   ],
   "source": [
    "def clean_text(text):\n",
    "    return re.sub(r'\\W+', ' ', text).lower().strip()\n",
    "\n",
    "# Load the tokenizer\n",
    "with open('tokenizer.json') as f:\n",
    "    data = json.load(f)\n",
    "    tokenizer = tokenizer_from_json(data)\n",
    "\n",
    "# Load the MultiLabelBinarizer\n",
    "mlb = joblib.load('mlb.pkl')\n",
    "\n",
    "# Load the trained model\n",
    "model = load_model('movie_genre_classifier.h5')\n",
    "\n",
    "# New movie descriptions to predict\n",
    "new_movie_descriptions = [\"Swathi dreams of owning a restaurant. But when murder derails her plan, she and her lover take an outrageous step - to replace him with her husband.\",\n",
    "                          \"Drea and Eleanor agree to go after one another's bullies.\"]\n",
    "\n",
    "# Clean and tokenize new descriptions\n",
    "new_movie_descriptions_clean = [clean_text(desc) for desc in new_movie_descriptions]\n",
    "sequences = tokenizer.texts_to_sequences(new_movie_descriptions_clean)\n",
    "\n",
    "# IMPORTANT: Use the same max_length as during training\n",
    "max_length = 78  # Replace 78 with the actual max length from your training process\n",
    "padded_sequences = pad_sequences(sequences, maxlen=max_length, padding='post')\n",
    "\n",
    "# Load the model\n",
    "model = load_model('movie_genre_classifier.h5')\n",
    "\n",
    "# Make predictions\n",
    "predictions = model.predict(padded_sequences)\n",
    "\n",
    "# Decode predictions\n",
    "for idx, desc in enumerate(new_movie_descriptions):\n",
    "    print(f\"Description: {desc}\")\n",
    "    print(\"Predicted genres:\")\n",
    "    predicted_labels = [mlb.classes_[i] for i, prob in enumerate(predictions[idx]) if prob > 0.55]\n",
    "    print(predicted_labels if predicted_labels else \"No genres predicted with high confidence.\")\n",
    "    print(\"\\n\")\n"
   ]
  },
  {
   "cell_type": "code",
   "execution_count": null,
   "id": "c6e33262",
   "metadata": {},
   "outputs": [],
   "source": []
  }
 ],
 "metadata": {
  "kernelspec": {
   "display_name": "Python 3 (ipykernel)",
   "language": "python",
   "name": "python3"
  },
  "language_info": {
   "codemirror_mode": {
    "name": "ipython",
    "version": 3
   },
   "file_extension": ".py",
   "mimetype": "text/x-python",
   "name": "python",
   "nbconvert_exporter": "python",
   "pygments_lexer": "ipython3",
   "version": "3.11.5"
  }
 },
 "nbformat": 4,
 "nbformat_minor": 5
}
