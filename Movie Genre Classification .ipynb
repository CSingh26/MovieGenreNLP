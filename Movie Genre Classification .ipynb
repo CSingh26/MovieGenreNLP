{
 "cells": [
  {
   "cell_type": "markdown",
   "id": "e72a81f8",
   "metadata": {},
   "source": [
    "# Movie Genre NLP"
   ]
  },
  {
   "cell_type": "markdown",
   "id": "4fa50ea4",
   "metadata": {},
   "source": [
    "## Imports "
   ]
  },
  {
   "cell_type": "code",
   "execution_count": 310,
   "id": "a9cee950",
   "metadata": {},
   "outputs": [],
   "source": [
    "import pandas as pd\n",
    "import numpy as np\n",
    "import matplotlib.pyplot as plt\n",
    "from sklearn.model_selection import train_test_split\n",
    "from sklearn.preprocessing import MultiLabelBinarizer\n",
    "import re\n",
    "from tensorflow.keras.models import Sequential\n",
    "from tensorflow.keras.layers import Dense, Embedding, GlobalAveragePooling1D\n",
    "from tensorflow.keras.preprocessing.text import Tokenizer\n",
    "from tensorflow.keras.preprocessing.sequence import pad_sequences\n",
    "from tensorflow.keras.optimizers import Adam\n",
    "import json\n",
    "import joblib\n",
    "from tensorflow.keras.models import Sequential\n",
    "from tensorflow.keras.layers import LSTM, Dense, Embedding, Dropout, Bidirectional\n",
    "import os"
   ]
  },
  {
   "cell_type": "markdown",
   "id": "339075bf",
   "metadata": {},
   "source": [
    "## Loading DataSet\n"
   ]
  },
  {
   "cell_type": "code",
   "execution_count": 311,
   "id": "ac0d3489",
   "metadata": {},
   "outputs": [
    {
     "data": {
      "text/html": [
       "<div>\n",
       "<style scoped>\n",
       "    .dataframe tbody tr th:only-of-type {\n",
       "        vertical-align: middle;\n",
       "    }\n",
       "\n",
       "    .dataframe tbody tr th {\n",
       "        vertical-align: top;\n",
       "    }\n",
       "\n",
       "    .dataframe thead th {\n",
       "        text-align: right;\n",
       "    }\n",
       "</style>\n",
       "<table border=\"1\" class=\"dataframe\">\n",
       "  <thead>\n",
       "    <tr style=\"text-align: right;\">\n",
       "      <th></th>\n",
       "      <th>title</th>\n",
       "      <th>year</th>\n",
       "      <th>certificate</th>\n",
       "      <th>duration</th>\n",
       "      <th>genre</th>\n",
       "      <th>rating</th>\n",
       "      <th>description</th>\n",
       "      <th>stars</th>\n",
       "      <th>votes</th>\n",
       "    </tr>\n",
       "  </thead>\n",
       "  <tbody>\n",
       "    <tr>\n",
       "      <th>0</th>\n",
       "      <td>Cobra Kai</td>\n",
       "      <td>(2018– )</td>\n",
       "      <td>TV-14</td>\n",
       "      <td>30 min</td>\n",
       "      <td>Action, Comedy, Drama</td>\n",
       "      <td>8.5</td>\n",
       "      <td>Decades after their 1984 All Valley Karate Tou...</td>\n",
       "      <td>['Ralph Macchio, ', 'William Zabka, ', 'Courtn...</td>\n",
       "      <td>177,031</td>\n",
       "    </tr>\n",
       "    <tr>\n",
       "      <th>1</th>\n",
       "      <td>The Crown</td>\n",
       "      <td>(2016– )</td>\n",
       "      <td>TV-MA</td>\n",
       "      <td>58 min</td>\n",
       "      <td>Biography, Drama, History</td>\n",
       "      <td>8.7</td>\n",
       "      <td>Follows the political rivalries and romance of...</td>\n",
       "      <td>['Claire Foy, ', 'Olivia Colman, ', 'Imelda St...</td>\n",
       "      <td>199,885</td>\n",
       "    </tr>\n",
       "    <tr>\n",
       "      <th>2</th>\n",
       "      <td>Better Call Saul</td>\n",
       "      <td>(2015–2022)</td>\n",
       "      <td>TV-MA</td>\n",
       "      <td>46 min</td>\n",
       "      <td>Crime, Drama</td>\n",
       "      <td>8.9</td>\n",
       "      <td>The trials and tribulations of criminal lawyer...</td>\n",
       "      <td>['Bob Odenkirk, ', 'Rhea Seehorn, ', 'Jonathan...</td>\n",
       "      <td>501,384</td>\n",
       "    </tr>\n",
       "    <tr>\n",
       "      <th>3</th>\n",
       "      <td>Devil in Ohio</td>\n",
       "      <td>(2022)</td>\n",
       "      <td>TV-MA</td>\n",
       "      <td>356 min</td>\n",
       "      <td>Drama, Horror, Mystery</td>\n",
       "      <td>5.9</td>\n",
       "      <td>When a psychiatrist shelters a mysterious cult...</td>\n",
       "      <td>['Emily Deschanel, ', 'Sam Jaeger, ', 'Gerardo...</td>\n",
       "      <td>9,773</td>\n",
       "    </tr>\n",
       "    <tr>\n",
       "      <th>4</th>\n",
       "      <td>Cyberpunk: Edgerunners</td>\n",
       "      <td>(2022– )</td>\n",
       "      <td>TV-MA</td>\n",
       "      <td>24 min</td>\n",
       "      <td>Animation, Action, Adventure</td>\n",
       "      <td>8.6</td>\n",
       "      <td>A Street Kid trying to survive in a technology...</td>\n",
       "      <td>['Zach Aguilar, ', 'Kenichiro Ohashi, ', 'Emi ...</td>\n",
       "      <td>15,413</td>\n",
       "    </tr>\n",
       "  </tbody>\n",
       "</table>\n",
       "</div>"
      ],
      "text/plain": [
       "                    title         year certificate duration  \\\n",
       "0               Cobra Kai     (2018– )       TV-14   30 min   \n",
       "1               The Crown     (2016– )       TV-MA   58 min   \n",
       "2        Better Call Saul  (2015–2022)       TV-MA   46 min   \n",
       "3           Devil in Ohio       (2022)       TV-MA  356 min   \n",
       "4  Cyberpunk: Edgerunners     (2022– )       TV-MA   24 min   \n",
       "\n",
       "                          genre  rating  \\\n",
       "0         Action, Comedy, Drama     8.5   \n",
       "1     Biography, Drama, History     8.7   \n",
       "2                  Crime, Drama     8.9   \n",
       "3        Drama, Horror, Mystery     5.9   \n",
       "4  Animation, Action, Adventure     8.6   \n",
       "\n",
       "                                         description  \\\n",
       "0  Decades after their 1984 All Valley Karate Tou...   \n",
       "1  Follows the political rivalries and romance of...   \n",
       "2  The trials and tribulations of criminal lawyer...   \n",
       "3  When a psychiatrist shelters a mysterious cult...   \n",
       "4  A Street Kid trying to survive in a technology...   \n",
       "\n",
       "                                               stars    votes  \n",
       "0  ['Ralph Macchio, ', 'William Zabka, ', 'Courtn...  177,031  \n",
       "1  ['Claire Foy, ', 'Olivia Colman, ', 'Imelda St...  199,885  \n",
       "2  ['Bob Odenkirk, ', 'Rhea Seehorn, ', 'Jonathan...  501,384  \n",
       "3  ['Emily Deschanel, ', 'Sam Jaeger, ', 'Gerardo...    9,773  \n",
       "4  ['Zach Aguilar, ', 'Kenichiro Ohashi, ', 'Emi ...   15,413  "
      ]
     },
     "execution_count": 311,
     "metadata": {},
     "output_type": "execute_result"
    }
   ],
   "source": [
    "df = pd.read_csv(\"/Users/chaitanyasingh/Documents/CollegeStuff/Project/1/n_movies.csv\")\n",
    "df.head()"
   ]
  },
  {
   "cell_type": "code",
   "execution_count": 312,
   "id": "32cf92be",
   "metadata": {},
   "outputs": [],
   "source": [
    "def clean_text(text):\n",
    "    return re.sub(r'\\W+', ' ', text).lower().strip()"
   ]
  },
  {
   "cell_type": "code",
   "execution_count": 313,
   "id": "3367a59e",
   "metadata": {},
   "outputs": [],
   "source": [
    "# Cleaning dataframe \n",
    "data = df # duplicate dataframe\n",
    "df.drop(['title', 'year', 'certificate', 'duration', 'rating', 'stars', 'votes'], axis = 1)\n",
    "\n",
    "df['clean_description'] = df['description'].apply(clean_text)\n",
    "\n",
    "data_filtered = data.dropna(subset=['genre'])\n",
    "data_filtered['genre_list'] = data_filtered['genre'].apply(lambda x: x.split(', '))"
   ]
  },
  {
   "cell_type": "code",
   "execution_count": 314,
   "id": "ac49bb59",
   "metadata": {},
   "outputs": [],
   "source": [
    "mlb = MultiLabelBinarizer()\n",
    "encoded_genres = mlb.fit_transform(data_filtered['genre_list'])"
   ]
  },
  {
   "cell_type": "code",
   "execution_count": 315,
   "id": "785c7f63",
   "metadata": {},
   "outputs": [],
   "source": [
    "X_train, X_test, y_train, y_test = train_test_split(data_filtered['clean_description'], encoded_genres, test_size=0.3, random_state=42)"
   ]
  },
  {
   "cell_type": "code",
   "execution_count": 316,
   "id": "f7d42825",
   "metadata": {},
   "outputs": [],
   "source": [
    "tokenizer = Tokenizer(num_words=5000, oov_token='<OOV>')\n",
    "tokenizer.fit_on_texts(X_train)\n",
    "X_train_seq = tokenizer.texts_to_sequences(X_train)\n",
    "X_test_seq = tokenizer.texts_to_sequences(X_test)"
   ]
  },
  {
   "cell_type": "code",
   "execution_count": 317,
   "id": "6261038b",
   "metadata": {},
   "outputs": [],
   "source": [
    "max_length = max(len(x) for x in X_train_seq)\n",
    "X_train_pad = pad_sequences(X_train_seq, maxlen=max_length, padding='post')\n",
    "X_test_pad = pad_sequences(X_test_seq, maxlen=max_length, padding='post')"
   ]
  },
  {
   "cell_type": "code",
   "execution_count": 318,
   "id": "6a2c3e2c",
   "metadata": {},
   "outputs": [
    {
     "data": {
      "text/plain": [
       "['mlb.pkl']"
      ]
     },
     "execution_count": 318,
     "metadata": {},
     "output_type": "execute_result"
    }
   ],
   "source": [
    "model = Sequential([\n",
    "    Embedding(input_dim=5000, output_dim=100, input_length=max_length),\n",
    "    Bidirectional(LSTM(64, return_sequences=True)),\n",
    "    GlobalAveragePooling1D(),\n",
    "    Dense(128, activation='relu'),\n",
    "    Dropout(0.5),\n",
    "    Dense(len(mlb.classes_), activation='sigmoid')\n",
    "])\n",
    "tokenizer_json = tokenizer.to_json()\n",
    "with open('tokenizer.json', 'w', encoding='utf-8') as f:\n",
    "    f.write(json.dumps(tokenizer_json, ensure_ascii=False))\n",
    "joblib.dump(mlb, 'mlb.pkl')"
   ]
  },
  {
   "cell_type": "code",
   "execution_count": 319,
   "id": "ad2e5478",
   "metadata": {},
   "outputs": [
    {
     "name": "stderr",
     "output_type": "stream",
     "text": [
      "WARNING:absl:At this time, the v2.11+ optimizer `tf.keras.optimizers.Adam` runs slowly on M1/M2 Macs, please use the legacy Keras optimizer instead, located at `tf.keras.optimizers.legacy.Adam`.\n"
     ]
    }
   ],
   "source": [
    "model.compile(loss='binary_crossentropy', optimizer=Adam(learning_rate=0.001), metrics=['accuracy'])"
   ]
  },
  {
   "cell_type": "code",
   "execution_count": 320,
   "id": "8c131416",
   "metadata": {},
   "outputs": [
    {
     "name": "stdout",
     "output_type": "stream",
     "text": [
      "Epoch 1/55\n",
      "217/217 [==============================] - 9s 34ms/step - loss: 0.2974 - accuracy: 0.1528 - val_loss: 0.2327 - val_accuracy: 0.1790\n",
      "Epoch 2/55\n",
      "217/217 [==============================] - 7s 31ms/step - loss: 0.2393 - accuracy: 0.2080 - val_loss: 0.2250 - val_accuracy: 0.2657\n",
      "Epoch 3/55\n",
      "217/217 [==============================] - 7s 32ms/step - loss: 0.2269 - accuracy: 0.2729 - val_loss: 0.2194 - val_accuracy: 0.2977\n",
      "Epoch 4/55\n",
      "217/217 [==============================] - 7s 31ms/step - loss: 0.2171 - accuracy: 0.3242 - val_loss: 0.2188 - val_accuracy: 0.2997\n",
      "Epoch 5/55\n",
      "217/217 [==============================] - 7s 33ms/step - loss: 0.2082 - accuracy: 0.3393 - val_loss: 0.2152 - val_accuracy: 0.2984\n",
      "Epoch 6/55\n",
      "217/217 [==============================] - 7s 32ms/step - loss: 0.1991 - accuracy: 0.3326 - val_loss: 0.2102 - val_accuracy: 0.2771\n",
      "Epoch 7/55\n",
      "217/217 [==============================] - 7s 32ms/step - loss: 0.1891 - accuracy: 0.3481 - val_loss: 0.2064 - val_accuracy: 0.3149\n",
      "Epoch 8/55\n",
      "217/217 [==============================] - 7s 33ms/step - loss: 0.1813 - accuracy: 0.3899 - val_loss: 0.2073 - val_accuracy: 0.3857\n",
      "Epoch 9/55\n",
      "217/217 [==============================] - 7s 31ms/step - loss: 0.1725 - accuracy: 0.4049 - val_loss: 0.2018 - val_accuracy: 0.3375\n",
      "Epoch 10/55\n",
      "217/217 [==============================] - 7s 31ms/step - loss: 0.1659 - accuracy: 0.4391 - val_loss: 0.2079 - val_accuracy: 0.3729\n",
      "Epoch 11/55\n",
      "217/217 [==============================] - 7s 32ms/step - loss: 0.1621 - accuracy: 0.4461 - val_loss: 0.2087 - val_accuracy: 0.3688\n",
      "Epoch 12/55\n",
      "217/217 [==============================] - 7s 31ms/step - loss: 0.1545 - accuracy: 0.4581 - val_loss: 0.2068 - val_accuracy: 0.3570\n",
      "Epoch 13/55\n",
      "217/217 [==============================] - 7s 32ms/step - loss: 0.1496 - accuracy: 0.4860 - val_loss: 0.2154 - val_accuracy: 0.3645\n",
      "Epoch 14/55\n",
      "217/217 [==============================] - 7s 32ms/step - loss: 0.1447 - accuracy: 0.4897 - val_loss: 0.2222 - val_accuracy: 0.3769\n",
      "Epoch 15/55\n",
      "217/217 [==============================] - 7s 32ms/step - loss: 0.1408 - accuracy: 0.5095 - val_loss: 0.2165 - val_accuracy: 0.3527\n",
      "Epoch 16/55\n",
      "217/217 [==============================] - 7s 31ms/step - loss: 0.1361 - accuracy: 0.5265 - val_loss: 0.2391 - val_accuracy: 0.3864\n",
      "Epoch 17/55\n",
      "217/217 [==============================] - 7s 32ms/step - loss: 0.1316 - accuracy: 0.5350 - val_loss: 0.2315 - val_accuracy: 0.3975\n",
      "Epoch 18/55\n",
      "217/217 [==============================] - 7s 33ms/step - loss: 0.1270 - accuracy: 0.5558 - val_loss: 0.2403 - val_accuracy: 0.3945\n",
      "Epoch 19/55\n",
      "217/217 [==============================] - 7s 31ms/step - loss: 0.1248 - accuracy: 0.5649 - val_loss: 0.2392 - val_accuracy: 0.3938\n",
      "Epoch 20/55\n",
      "217/217 [==============================] - 7s 31ms/step - loss: 0.1187 - accuracy: 0.5691 - val_loss: 0.2510 - val_accuracy: 0.3985\n",
      "Epoch 21/55\n",
      "217/217 [==============================] - 7s 31ms/step - loss: 0.1166 - accuracy: 0.5759 - val_loss: 0.2502 - val_accuracy: 0.4026\n",
      "Epoch 22/55\n",
      "217/217 [==============================] - 7s 32ms/step - loss: 0.1103 - accuracy: 0.5901 - val_loss: 0.2559 - val_accuracy: 0.4073\n",
      "Epoch 23/55\n",
      "217/217 [==============================] - 7s 32ms/step - loss: 0.1071 - accuracy: 0.5841 - val_loss: 0.2551 - val_accuracy: 0.3921\n",
      "Epoch 24/55\n",
      "217/217 [==============================] - 7s 31ms/step - loss: 0.1031 - accuracy: 0.5941 - val_loss: 0.2617 - val_accuracy: 0.3823\n",
      "Epoch 25/55\n",
      "217/217 [==============================] - 7s 31ms/step - loss: 0.0996 - accuracy: 0.6016 - val_loss: 0.2609 - val_accuracy: 0.3948\n",
      "Epoch 26/55\n",
      "217/217 [==============================] - 7s 31ms/step - loss: 0.0970 - accuracy: 0.5885 - val_loss: 0.2807 - val_accuracy: 0.3972\n",
      "Epoch 27/55\n",
      "217/217 [==============================] - 7s 32ms/step - loss: 0.0917 - accuracy: 0.5945 - val_loss: 0.3123 - val_accuracy: 0.4002\n",
      "Epoch 28/55\n",
      "217/217 [==============================] - 7s 33ms/step - loss: 0.0895 - accuracy: 0.5963 - val_loss: 0.2966 - val_accuracy: 0.3830\n",
      "Epoch 29/55\n",
      "217/217 [==============================] - 7s 32ms/step - loss: 0.0861 - accuracy: 0.5990 - val_loss: 0.3160 - val_accuracy: 0.3833\n",
      "Epoch 30/55\n",
      "217/217 [==============================] - 7s 31ms/step - loss: 0.0827 - accuracy: 0.6022 - val_loss: 0.3287 - val_accuracy: 0.3749\n",
      "Epoch 31/55\n",
      "217/217 [==============================] - 7s 31ms/step - loss: 0.0832 - accuracy: 0.5971 - val_loss: 0.3402 - val_accuracy: 0.3833\n",
      "Epoch 32/55\n",
      "217/217 [==============================] - 7s 31ms/step - loss: 0.0782 - accuracy: 0.5981 - val_loss: 0.3437 - val_accuracy: 0.3911\n",
      "Epoch 33/55\n",
      "217/217 [==============================] - 7s 31ms/step - loss: 0.0746 - accuracy: 0.6071 - val_loss: 0.3584 - val_accuracy: 0.3884\n",
      "Epoch 34/55\n",
      "217/217 [==============================] - 7s 32ms/step - loss: 0.0717 - accuracy: 0.6087 - val_loss: 0.3717 - val_accuracy: 0.3800\n",
      "Epoch 35/55\n",
      "217/217 [==============================] - 7s 31ms/step - loss: 0.0690 - accuracy: 0.6067 - val_loss: 0.3861 - val_accuracy: 0.3796\n",
      "Epoch 36/55\n",
      "217/217 [==============================] - 7s 31ms/step - loss: 0.0660 - accuracy: 0.6062 - val_loss: 0.3893 - val_accuracy: 0.3806\n",
      "Epoch 37/55\n",
      "217/217 [==============================] - 7s 32ms/step - loss: 0.0650 - accuracy: 0.6149 - val_loss: 0.4137 - val_accuracy: 0.3901\n",
      "Epoch 38/55\n",
      "217/217 [==============================] - 7s 33ms/step - loss: 0.0618 - accuracy: 0.6169 - val_loss: 0.4301 - val_accuracy: 0.3780\n",
      "Epoch 39/55\n",
      "217/217 [==============================] - 7s 33ms/step - loss: 0.0604 - accuracy: 0.6198 - val_loss: 0.4564 - val_accuracy: 0.3810\n",
      "Epoch 40/55\n",
      "217/217 [==============================] - 7s 33ms/step - loss: 0.0587 - accuracy: 0.6190 - val_loss: 0.4638 - val_accuracy: 0.3742\n",
      "Epoch 41/55\n",
      "217/217 [==============================] - 7s 31ms/step - loss: 0.0561 - accuracy: 0.6169 - val_loss: 0.4787 - val_accuracy: 0.3756\n",
      "Epoch 42/55\n",
      "217/217 [==============================] - 7s 31ms/step - loss: 0.0548 - accuracy: 0.6088 - val_loss: 0.4933 - val_accuracy: 0.3847\n",
      "Epoch 43/55\n",
      "217/217 [==============================] - 7s 34ms/step - loss: 0.0526 - accuracy: 0.6106 - val_loss: 0.5104 - val_accuracy: 0.3847\n",
      "Epoch 44/55\n",
      "217/217 [==============================] - 7s 34ms/step - loss: 0.0518 - accuracy: 0.6159 - val_loss: 0.4993 - val_accuracy: 0.3695\n",
      "Epoch 45/55\n",
      "217/217 [==============================] - 7s 33ms/step - loss: 0.0494 - accuracy: 0.6172 - val_loss: 0.5156 - val_accuracy: 0.3732\n",
      "Epoch 46/55\n",
      "217/217 [==============================] - 7s 32ms/step - loss: 0.0482 - accuracy: 0.6206 - val_loss: 0.5274 - val_accuracy: 0.3736\n",
      "Epoch 47/55\n",
      "217/217 [==============================] - 7s 33ms/step - loss: 0.0456 - accuracy: 0.5990 - val_loss: 0.5727 - val_accuracy: 0.3813\n",
      "Epoch 48/55\n",
      "217/217 [==============================] - 7s 34ms/step - loss: 0.0459 - accuracy: 0.6055 - val_loss: 0.5972 - val_accuracy: 0.3719\n",
      "Epoch 49/55\n",
      "217/217 [==============================] - 7s 33ms/step - loss: 0.0444 - accuracy: 0.6049 - val_loss: 0.5738 - val_accuracy: 0.3678\n",
      "Epoch 50/55\n",
      "217/217 [==============================] - 7s 33ms/step - loss: 0.0445 - accuracy: 0.5999 - val_loss: 0.5787 - val_accuracy: 0.3597\n",
      "Epoch 51/55\n",
      "217/217 [==============================] - 7s 34ms/step - loss: 0.0406 - accuracy: 0.5937 - val_loss: 0.6254 - val_accuracy: 0.3614\n",
      "Epoch 52/55\n",
      "217/217 [==============================] - 7s 32ms/step - loss: 0.0432 - accuracy: 0.5830 - val_loss: 0.5935 - val_accuracy: 0.3624\n",
      "Epoch 53/55\n",
      "217/217 [==============================] - 7s 31ms/step - loss: 0.0396 - accuracy: 0.6067 - val_loss: 0.6089 - val_accuracy: 0.3628\n",
      "Epoch 54/55\n",
      "217/217 [==============================] - 7s 33ms/step - loss: 0.0372 - accuracy: 0.5899 - val_loss: 0.6564 - val_accuracy: 0.3594\n",
      "Epoch 55/55\n",
      "217/217 [==============================] - 7s 32ms/step - loss: 0.0373 - accuracy: 0.5822 - val_loss: 0.6824 - val_accuracy: 0.3567\n",
      "CPU times: user 11min 56s, sys: 2min 9s, total: 14min 6s\n",
      "Wall time: 6min 23s\n"
     ]
    },
    {
     "data": {
      "text/plain": [
       "<keras.src.callbacks.History at 0x2b2b08590>"
      ]
     },
     "execution_count": 320,
     "metadata": {},
     "output_type": "execute_result"
    }
   ],
   "source": [
    "%%time\n",
    "model.fit(X_train_pad, y_train, epochs=55, validation_data=(X_test_pad, y_test))"
   ]
  },
  {
   "cell_type": "code",
   "execution_count": 321,
   "id": "3b0a61fb",
   "metadata": {},
   "outputs": [],
   "source": [
    "model.save('movie_genre_classifier.h5')"
   ]
  },
  {
   "cell_type": "code",
   "execution_count": null,
   "id": "0c0c1ed8",
   "metadata": {},
   "outputs": [],
   "source": []
  }
 ],
 "metadata": {
  "kernelspec": {
   "display_name": "Python 3 (ipykernel)",
   "language": "python",
   "name": "python3"
  },
  "language_info": {
   "codemirror_mode": {
    "name": "ipython",
    "version": 3
   },
   "file_extension": ".py",
   "mimetype": "text/x-python",
   "name": "python",
   "nbconvert_exporter": "python",
   "pygments_lexer": "ipython3",
   "version": "3.11.5"
  }
 },
 "nbformat": 4,
 "nbformat_minor": 5
}
